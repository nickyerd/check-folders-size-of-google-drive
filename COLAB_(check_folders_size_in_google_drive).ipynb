{
  "nbformat": 4,
  "nbformat_minor": 0,
  "metadata": {
    "colab": {
      "name": "COLAB (check folders size in google drive).ipynb",
      "provenance": [],
      "collapsed_sections": []
    },
    "kernelspec": {
      "name": "python3",
      "display_name": "Python 3"
    },
    "language_info": {
      "name": "python"
    }
  },
  "cells": [
    {
      "cell_type": "markdown",
      "metadata": {
        "id": "D_TkjpVdn0Fx"
      },
      "source": [
        "# Checking folders size in Google Drive"
      ]
    },
    {
      "cell_type": "code",
      "metadata": {
        "id": "4g5ovZ3Qn196",
        "cellView": "form"
      },
      "source": [
        "#@markdown <h3>Mount Gdrive\n",
        "\n",
        "from google.colab import drive\n",
        "drive.mount('/content/drive')"
      ],
      "execution_count": null,
      "outputs": []
    },
    {
      "cell_type": "markdown",
      "metadata": {
        "id": "JmaUodgqL5Zb"
      },
      "source": [
        "<h3>Using Unix Command"
      ]
    },
    {
      "cell_type": "code",
      "metadata": {
        "id": "ayQDim_hn2_5"
      },
      "source": [
        "!ls -l \"/content/drive/My Drive\""
      ],
      "execution_count": null,
      "outputs": []
    },
    {
      "cell_type": "markdown",
      "metadata": {
        "id": "j3zLXq-ZMAa7"
      },
      "source": [
        "<h3>To find out the disk usage for each folder in \"My Drive\""
      ]
    },
    {
      "cell_type": "code",
      "metadata": {
        "id": "jlN0VHuan39x"
      },
      "source": [
        "!du -sh /content/drive/\"My Drive\"/* | sort -hr"
      ],
      "execution_count": null,
      "outputs": []
    }
  ]
}